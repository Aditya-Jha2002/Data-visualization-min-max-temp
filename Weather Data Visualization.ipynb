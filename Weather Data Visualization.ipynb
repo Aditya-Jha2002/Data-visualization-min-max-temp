{
 "cells": [
  {
   "cell_type": "code",
   "execution_count": null,
   "metadata": {
    "collapsed": true
   },
   "outputs": [],
   "source": [
    "#returns a line graph of the record high and record low temperatures by day of the year over the period 2005-2014 for data visualization"
   ]
  },
  {
   "cell_type": "code",
   "execution_count": null,
   "metadata": {
    "collapsed": true
   },
   "outputs": [],
   "source": [
    "%matplotlib notebook\n",
    "import matplotlib.pyplot as plt\n",
    "import mplleaflet\n",
    "import pandas as pd\n",
    "import numpy as np"
   ]
  },
  {
   "cell_type": "code",
   "execution_count": null,
   "metadata": {
    "collapsed": true
   },
   "outputs": [],
   "source": [
    "data = pd.read_csv(\"fb441e62df2d58994928907a91895ec62c2c42e6cd075c2700843b89.csv\")\n",
    "data[\"Date\"] = pd.to_datetime(data[\"Date\"])\n",
    "TMAX = data[(data[\"Element\"]==\"TMAX\")&(data[\"Date\"].dt.year>=2005)&(data[\"Date\"].dt.year<=2014)]\n",
    "TMIN = data[(data[\"Element\"]==\"TMIN\")&(data[\"Date\"].dt.year>=2005)&(data[\"Date\"].dt.year<=2014)]\n",
    "years = np.sort(TMAX[\"Date\"].dt.year.unique())\n",
    "years"
   ]
  },
  {
   "cell_type": "code",
   "execution_count": null,
   "metadata": {
    "collapsed": true
   },
   "outputs": [],
   "source": [
    "max_temp = []\n",
    "min_temp = []\n",
    "for year in years:\n",
    "    max_temp.append(TMAX[TMAX[\"Date\"].dt.year == year][\"Data_Value\"].max())\n",
    "    min_temp.append(TMIN[TMIN[\"Date\"].dt.year == year][\"Data_Value\"].min())"
   ]
  },
  {
   "cell_type": "code",
   "execution_count": null,
   "metadata": {
    "collapsed": true
   },
   "outputs": [],
   "source": [
    "plt.plot(years,max_temp,c=\"orange\")\n",
    "plt.plot(years,min_temp,c=\"blue\")\n",
    "plt.fill_between(years,max_temp,min_temp,alpha=0.8)"
   ]
  }
 ],
 "metadata": {
  "kernelspec": {
   "display_name": "Python 3",
   "language": "python",
   "name": "python3"
  },
  "language_info": {
   "codemirror_mode": {
    "name": "ipython",
    "version": 3
   },
   "file_extension": ".py",
   "mimetype": "text/x-python",
   "name": "python",
   "nbconvert_exporter": "python",
   "pygments_lexer": "ipython3",
   "version": "3.6.2"
  }
 },
 "nbformat": 4,
 "nbformat_minor": 1
}
