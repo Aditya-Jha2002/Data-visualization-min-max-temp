%matplotlib notebook
import matplotlib.pyplot as plt
import mplleaflet
import pandas as pd
import numpy as np

data = pd.read_csv("data/C2A2_data/BinnedCsvs_d400/fb441e62df2d58994928907a91895ec62c2c42e6cd075c2700843b89.csv")

data["Date"] = pd.to_datetime(data["Date"])
TMAX = data[(data["Element"]=="TMAX")&(data["Date"].dt.year>=2005)&(data["Date"].dt.year<=2014)]
TMIN = data[(data["Element"]=="TMIN")&(data["Date"].dt.year>=2005)&(data["Date"].dt.year<=2014)]
years = np.sort(TMAX["Date"].dt.year.unique())
years

max_temp = []
min_temp = []
for year in years:
    max_temp.append(TMAX[TMAX["Date"].dt.year == year]["Data_Value"].max())
    min_temp.append(TMIN[TMIN["Date"].dt.year == year]["Data_Value"].min())

    
plt.plot(years,max_temp,c="orange")
plt.plot(years,min_temp,c="blue")
plt.fill_between(years,max_temp,min_temp,alpha=0.8)
